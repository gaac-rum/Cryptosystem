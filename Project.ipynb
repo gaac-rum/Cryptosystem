{
 "cells": [
  {
   "cell_type": "markdown",
   "metadata": {},
   "source": [
    "## Task-1: Implement rotor machine <br>"
   ]
  },
  {
   "cell_type": "markdown",
   "metadata": {},
   "source": [
    "In this task a classic rotor machine should be\n",
    "implemented subject to the following conditions:\n",
    "* Rotor machine should have 3 rotors\n",
    "* Develop a code that simulates the working of rotor machine in such a way\n",
    "that each rotor should rotate after character is encrypted.\n",
    "* The developed system should include provisions for decryption process too.\n",
    "* Test your rotor machine design using the following messages: ’HELLO’,\n",
    "’HOPE’, and ’NEW YEAR’. Document your results in the format shown\n",
    "in Table 2."
   ]
  },
  {
   "cell_type": "markdown",
   "metadata": {},
   "source": [
    "### Code"
   ]
  },
  {
   "cell_type": "code",
   "execution_count": null,
   "metadata": {},
   "outputs": [
    {
     "name": "stdout",
     "output_type": "stream",
     "text": [
      "GDOAFYBUZHXTJENPLMKSWCRQVI\n",
      "RBIKSHNDWOEYCFPUVMQTAZJGLX\n",
      "MDRSBHUQFGLCVAWYXIZPEJNOKT\n",
      "{'A': 'Y', 'R': 'I', 'B': 'B', 'C': 'T', 'W': 'T', 'D': 'Q', 'N': 'U', 'E': 'U', 'X': 'V', 'F': 'I', 'K': 'H', 'G': 'V', 'P': 'O', 'H': 'K', 'M': 'J', 'I': 'R', 'J': 'M', 'L': 'S', 'S': 'Z', 'U': 'E', 'O': 'P', 'Y': 'A', 'Q': 'Z', 'Z': 'Q', 'T': 'W', 'V': 'X'}\n",
      "Original: HELLO -> Encrypted:KCNGR -> Decrypted:EBGDJ\n",
      "Original: HOPE -> Encrypted:YWZV -> Decrypted:GIBG\n",
      "Original: NEW YEAR -> Encrypted:XZZRKHYU -> Decrypted:LIKAEJFX\n"
     ]
    },
    {
     "ename": "",
     "evalue": "",
     "output_type": "error",
     "traceback": [
      "\u001b[1;31mThe Kernel crashed while executing code in the current cell or a previous cell. \n",
      "\u001b[1;31mPlease review the code in the cell(s) to identify a possible cause of the failure. \n",
      "\u001b[1;31mClick <a href='https://aka.ms/vscodeJupyterKernelCrash'>here</a> for more info. \n",
      "\u001b[1;31mView Jupyter <a href='command:jupyter.viewOutput'>log</a> for further details."
     ]
    }
   ],
   "source": [
    "import random\n",
    "import string\n",
    "\n",
    "class RotorMachine:\n",
    "\n",
    "    @staticmethod\n",
    "    def generate_random_rotor():\n",
    "        alphabet = list(string.ascii_uppercase)\n",
    "        random.shuffle(alphabet)\n",
    "        return ''.join(alphabet)\n",
    "\n",
    "    @staticmethod\n",
    "    def generate_random_reflector():\n",
    "        alphabet = list(string.ascii_uppercase)\n",
    "        shuffled = alphabet[:]\n",
    "        random.shuffle(shuffled)\n",
    "        reflector = {}\n",
    "        for a, b in zip(alphabet, shuffled):\n",
    "            reflector[a] = b\n",
    "            reflector[b] = a\n",
    "        return reflector\n",
    "    \n",
    "    def rotors(self):\n",
    "        rotor1 = self.generate_random_rotor()\n",
    "        rotor2 = self.generate_random_rotor()\n",
    "        rotor3 = self.generate_random_rotor()\n",
    "        reflector = self.generate_random_reflector()\n",
    "        return rotor1, rotor2, rotor3, reflector\n",
    "    \n",
    "    def instance(self, rotor1, rotor2, rotor3, reflector):\n",
    "        self.rotors = [rotor1, rotor2, rotor3]\n",
    "        self.reflector = reflector\n",
    "        self.rotor_positions = [0, 0, 0]\n",
    "        return self\n",
    "\n",
    "    def rotate_rotors(self):\n",
    "        self.rotor_positions[0] = (self.rotor_positions[0] + 1) % 26\n",
    "        if self.rotor_positions[0] == 0:\n",
    "            self.rotor_positions[1] = (self.rotor_positions[1] + 1) % 26\n",
    "            if self.rotor_positions[1] == 0:\n",
    "                self.rotor_positions[2] = (self.rotor_positions[2] + 1) % 26\n",
    "\n",
    "    def encrypt_char(self, char):\n",
    "        self.rotate_rotors()\n",
    "        index = ord(char) - 65\n",
    "        for i, rotor in enumerate(self.rotors):\n",
    "            index = (index + self.rotor_positions[i]) % 26\n",
    "            index = (ord(rotor[index]) - 65) % 26\n",
    "        index = ord(self.reflector[chr(index + 65)]) - 65\n",
    "        for i, rotor in enumerate(reversed(self.rotors)):\n",
    "            index = (rotor.index(chr(index + 65)) - self.rotor_positions[2-i]) % 26\n",
    "        return chr(index + 65)\n",
    "    \n",
    "    def encrypt_message(self, message):\n",
    "        encrypted_message = ''\n",
    "        for char in message:\n",
    "            encrypted_message += self.encrypt_char(char)\n",
    "        return encrypted_message\n",
    "    \n",
    "    def decrypt_message(self, encrypted_message):\n",
    "        decrypted_message = ''\n",
    "        for char in encrypted_message:\n",
    "            self.rotate_rotors()\n",
    "            index = ord(char) - 65\n",
    "            for i, rotor in enumerate(reversed(self.rotors)):\n",
    "                index = (index + self.rotor_positions[2-i]) % 26\n",
    "                index = (ord(rotor[index]) - 65) % 26\n",
    "            index = ord(self.reflector[chr(index + 65)]) - 65\n",
    "            for i, rotor in enumerate(self.rotors):\n",
    "                index = (rotor.index(chr(index + 65)) - self.rotor_positions[i]) % 26\n",
    "            decrypted_message += chr(index + 65)\n",
    "        return decrypted_message\n",
    "\n",
    "\n",
    "rotor1, rotor2, rotor3, reflector = RotorMachine().rotors()\n",
    "print(rotor1)\n",
    "print(rotor2)\n",
    "print(rotor3)\n",
    "print(reflector)\n",
    "\n",
    "# Create rotor machine instance\n",
    "rotor_machine = RotorMachine().instance(rotor1, rotor2, rotor3, reflector)\n",
    "\n",
    "# Test messages\n",
    "messages = ['HELLO', 'HOPE', 'NEW YEAR']\n",
    "encrypted_messages = [rotor_machine.encrypt_message(message) for message in messages]\n",
    "decrypted_messages = [rotor_machine.decrypt_message(encrypted_message) for encrypted_message in encrypted_messages]\n",
    "\n",
    "# Print results\n",
    "for message, encrypted_message, decrypted_message in zip(messages, encrypted_messages, decrypted_messages):\n",
    "    print(f'Original: {message} -> Encrypted:{encrypted_message} -> Decrypted:{decrypted_message}')\n",
    "\n"
   ]
  },
  {
   "cell_type": "markdown",
   "metadata": {},
   "source": [
    "## Task-2: Implementing DES"
   ]
  },
  {
   "cell_type": "markdown",
   "metadata": {},
   "source": [
    "In this task DES scheme should be implemented. Test\n",
    "the operation of the developed DES scheme using the same three original messages\n",
    "given in Task-1, and document the results once again similar to Table 1."
   ]
  },
  {
   "cell_type": "markdown",
   "metadata": {},
   "source": [
    "### Code"
   ]
  },
  {
   "cell_type": "code",
   "execution_count": null,
   "metadata": {},
   "outputs": [
    {
     "name": "stdout",
     "output_type": "stream",
     "text": [
      "DesKey:b'\\x1f\\x94\\x03[[\\xa5\\x04\\x8c'\n",
      "Original: HELLO -> Encrypted:970f0ea530a4329f -> Decrypted:HELLO\n",
      "Original: HOPE -> Encrypted:c73e42394b167039 -> Decrypted:HOPE\n",
      "Original: NEW YEAR -> Encrypted:0c2c19149435a920072f5ae018499e91 -> Decrypted:NEW YEAR\n"
     ]
    }
   ],
   "source": [
    "from Crypto.Random import get_random_bytes\n",
    "from Crypto.Cipher import DES\n",
    "from Crypto.Util.Padding import pad, unpad\n",
    "import binascii\n",
    "\n",
    "class DESMachine:\n",
    "    def __init__(self, key):\n",
    "        # Initialize DES cipher with the provided key in ECB mode\n",
    "        self.key = key\n",
    "        self.cipher = DES.new(key, DES.MODE_ECB)\n",
    "\n",
    "    @staticmethod\n",
    "    def generate_random_key():\n",
    "        # Generate a random 8-byte key for DES\n",
    "        return get_random_bytes(8)\n",
    "\n",
    "    def encrypt_message(self, message):\n",
    "        # Pad the message to be a multiple of DES block size and encrypt it\n",
    "        padded_message = pad(message.encode(), DES.block_size)\n",
    "        encrypted_message = self.cipher.encrypt(padded_message)\n",
    "        # Convert the encrypted message to a hexadecimal string\n",
    "        return binascii.hexlify(encrypted_message).decode()\n",
    "\n",
    "    def decrypt_message(self, encrypted_message):\n",
    "        # Convert the hexadecimal string back to bytes and decrypt it\n",
    "        encrypted_message = binascii.unhexlify(encrypted_message)\n",
    "        decrypted_message = self.cipher.decrypt(encrypted_message)\n",
    "        # Unpad the decrypted message and convert it back to a string\n",
    "        return unpad(decrypted_message, DES.block_size).decode()\n",
    "\n",
    "des_key = DESMachine.generate_random_key()\n",
    "print(f\"DesKey:{des_key}\")\n",
    "\n",
    "# Initialize DES machine\n",
    "des_machine = DESMachine(des_key)\n",
    "\n",
    "# Test messages\n",
    "messages = ['HELLO', 'HOPE', 'NEW YEAR']\n",
    "\n",
    "# Print results\n",
    "for message in messages:\n",
    "    encrypted_message = des_machine.encrypt_message(message)\n",
    "    decrypted_message = des_machine.decrypt_message(encrypted_message)\n",
    "    print(f'Original: {message} -> Encrypted:{encrypted_message} -> Decrypted:{decrypted_message}')\n",
    "\n",
    "\n"
   ]
  },
  {
   "cell_type": "markdown",
   "metadata": {},
   "source": [
    "## Task-3: Implement hybrid Cryptographic system"
   ]
  },
  {
   "cell_type": "markdown",
   "metadata": {},
   "source": [
    "In this task two layer encryption\n",
    "will be done. First, M will be passed through rotor machine to get E1,\n",
    "which then should be passed through DES to get E2. In the similar manner\n",
    "decryption process should be done. Test the developed hybrid system on the\n",
    "following messages, and document the results as shown in Table 3"
   ]
  },
  {
   "cell_type": "markdown",
   "metadata": {},
   "source": [
    "### Code"
   ]
  },
  {
   "cell_type": "code",
   "execution_count": null,
   "metadata": {},
   "outputs": [],
   "source": []
  }
 ],
 "metadata": {
  "kernelspec": {
   "display_name": ".venv",
   "language": "python",
   "name": "python3"
  },
  "language_info": {
   "codemirror_mode": {
    "name": "ipython",
    "version": 3
   },
   "file_extension": ".py",
   "mimetype": "text/x-python",
   "name": "python",
   "nbconvert_exporter": "python",
   "pygments_lexer": "ipython3",
   "version": "3.12.6"
  }
 },
 "nbformat": 4,
 "nbformat_minor": 2
}
